{
 "cells": [
  {
   "cell_type": "markdown",
   "source": [
    "# Funkcje skrótu - sprawozdanie\n",
    "#### Alicja Lis, 151569"
   ],
   "metadata": {
    "collapsed": false
   }
  },
  {
   "cell_type": "markdown",
   "source": [
    "## Program analizujący długość znaków oraz szybkość algorytmów md5, sha1, sha224, sha384, sha512"
   ],
   "metadata": {
    "collapsed": false
   }
  },
  {
   "cell_type": "code",
   "execution_count": 1,
   "outputs": [
    {
     "name": "stdout",
     "output_type": "stream",
     "text": [
      "Data Length: 5\n",
      "Results for current text:\n",
      "SHA1: Length - 40, Time - 0.06882109999999986, Hash - 22c67b34317bffa41c9cd41674edbbd490ba58dd\n",
      "MD5: Length - 32, Time - 0.0717289000000001, Hash - db6ff2ffe2df7b8cfc0d9542bdce27dc\n",
      "SHA224: Length - 56, Time - 0.07355040000000002, Hash - e23a763c117cd0cf175706675a693566a27087decec35c9b134b86d2\n",
      "SHA256: Length - 64, Time - 0.07543239999999996, Hash - 1b7f8466f087c27f24e1c90017b829cd8208969018a0bbe7d9c452fa224bc6cc\n",
      "SHA384: Length - 96, Time - 0.10202409999999995, Hash - 385439ade7c72bd32246e218541a513727ce71d6e9145b8e88dbdbff7d3c8d2060cfa7c5ad98256092d67ef87400f99b\n",
      "SHA512: Length - 128, Time - 0.10494429999999988, Hash - d8d98397c83c16d59598b66daf16154674cf5a05b9c29155dabd827a6dcd388a7ea2600a9ec4525d5baac6665dc5bae395bafc4b4f19bdf163015842cc76ff74\n",
      "\n",
      "\n",
      "Data Length: 56\n",
      "Results for current text:\n",
      "SHA1: Length - 40, Time - 0.0754999999999999, Hash - e7505beb754bed863e3885f73e3bb6866bdd7f8c\n",
      "SHA256: Length - 64, Time - 0.07945360000000012, Hash - a58dd8680234c1f8cc2ef2b325a43733605a7f16f288e072de8eae81fd8d6433\n",
      "SHA224: Length - 56, Time - 0.08157989999999993, Hash - 6b261393ad2025ac9165e16944d8655a8fbfe519ad16bac3afa524f2\n",
      "MD5: Length - 32, Time - 0.0856593000000001, Hash - 35899082e51edf667f14477ac000cbba\n",
      "SHA512: Length - 128, Time - 0.1087104000000001, Hash - 19d8350a48bb40d04b4045955a9d95599aa5bd5b8c74c36c098b58c3cd8af142b8d9cf0417ef6dc88c4ed91c69ea8e2adce7afec1afb6a21d8cae681b0902997\n",
      "SHA384: Length - 96, Time - 0.11191700000000004, Hash - ae201b29dc4d8d374a88aff6c1bf845ce73c1d2b5512eb0d673d5b637c48dd5d844224153aab261f17544528be054b1e\n",
      "\n",
      "\n",
      "Data Length: 96\n",
      "Results for current text:\n",
      "SHA1: Length - 40, Time - 0.07796389999999986, Hash - b5a3210d5f7318d096c8156f511d5f7423d56eae\n",
      "SHA256: Length - 64, Time - 0.08210209999999973, Hash - e7252f5f731325a4d08fe2c78a56bc05d17a18bd59c7fe7a4b23e34724308e70\n",
      "MD5: Length - 32, Time - 0.0843560000000001, Hash - ccb40f9067400dccbf47bf77886a70f6\n",
      "SHA224: Length - 56, Time - 0.09476899999999988, Hash - 17885ad45a7fcd741a2b327952e36465239310411f24f05f54e794f5\n",
      "SHA512: Length - 128, Time - 0.1071314000000001, Hash - b8ea51ba36dd353fc18d92fd30db2c9829e4d27f7d1376f5eb7dda8260e327b9488479d6e0e8f5fd49abe4258919a8f6cc54390b533a8af1e54beb1c1fe0d4bc\n",
      "SHA384: Length - 96, Time - 0.1114636, Hash - e480549bae2bc38a0180d7bc7fee7075157313a8c20c548828ecd0bf19d9f7e7e5895e53d7e4254d0db76ee37ea6d99c\n",
      "\n",
      "\n",
      "Data Length: 143\n",
      "Results for current text:\n",
      "SHA1: Length - 40, Time - 0.07702929999999997, Hash - 81a48a6fcaf21130b31960abbe6c107d49eec887\n",
      "SHA224: Length - 56, Time - 0.08488589999999974, Hash - 0f83ceb6c4ba5e7b8111a251823f1a20bb293d41697182c22f8e2c69\n",
      "SHA256: Length - 64, Time - 0.08752229999999983, Hash - 9269041e500427b3add8a60ca79bfbce6f0717e4eccefacfb8ce7159b3b5893c\n",
      "MD5: Length - 32, Time - 0.09392970000000034, Hash - 64515f1673e703342acc3f31949a942c\n",
      "SHA512: Length - 128, Time - 0.12915430000000017, Hash - 1b780970d3ccf707b0ce569a7eb3d5cd02d055ca4cf14397d2f9295283d69cf815fedeb090ed36872e3c5829746b1d7282c4c277a8d91c70ab2c535d53f7d7d3\n",
      "SHA384: Length - 96, Time - 0.13672679999999993, Hash - 9748ae84c175bec4abdd2df3bf9cb3a38c035e420b220cfda584d87343ad736a05c2c25a0f475ad5a05ca27e5700afe0\n",
      "\n",
      "\n",
      "Data Length: 418\n",
      "Results for current text:\n",
      "SHA1: Length - 40, Time - 0.09008860000000007, Hash - 4583c1913decb28ad1147306118eaf6f3c03103e\n",
      "SHA224: Length - 56, Time - 0.09962669999999996, Hash - 42b0165868cc6ceb8f647877227ea5cca757535a4e2b5a7d4287736c\n",
      "MD5: Length - 32, Time - 0.12005370000000015, Hash - ea31c0e3b5d1e2ed7b9f7f336a442161\n",
      "SHA256: Length - 64, Time - 0.1427779, Hash - 316abc7aa1d9ac1adc5c3bff55154b07d68ba241c4fa25c36f4b9691735f7eb5\n",
      "SHA512: Length - 128, Time - 0.16556309999999996, Hash - 8b69e869accd3da1b646c38e27b19c3ea1916ddf0f1d5cc4c37de4ea87a573e214bc3ea9698fbd6c13ef558a889ed6bc8b05c1c0ddcc930c2d562954202f1298\n",
      "SHA384: Length - 96, Time - 0.17347069999999976, Hash - de33a18ea06c0f5c8eaf7df22fcb0c2af60000675a25f7516af887b1f6285c705fe6f626d41fb700b5e56c0f7b3a279e\n",
      "\n",
      "\n",
      "Overall ranking based on total time:\n",
      "SHA1: Total Time - 0.38940289999999966\n",
      "SHA224: Total Time - 0.4344118999999995\n",
      "MD5: Total Time - 0.4557276000000008\n",
      "SHA256: Total Time - 0.46728829999999966\n",
      "SHA512: Total Time - 0.6155035000000002\n",
      "SHA384: Total Time - 0.6356021999999997\n"
     ]
    }
   ],
   "source": [
    "import hashlib\n",
    "import timeit\n",
    "\n",
    "# Funkcja porównująca hashe dla różnych instancji tekstowych\n",
    "def compare_hashes(input_text):\n",
    "    results = {}\n",
    "    algorithms = ['md5', 'sha1', 'sha224', 'sha256', 'sha384', 'sha512']\n",
    "    for algorithm in algorithms:\n",
    "        # Kod konfiguracyjny dla danego algorytmu haszującego\n",
    "        setup_code = f'''\n",
    "from hashlib import {algorithm}\n",
    "input_text = \"{input_text}\"\n",
    "        '''\n",
    "        # Pomiar czasu potrzebnego na wygenerowanie hasha\n",
    "        execution_time = timeit.timeit(f'{algorithm}(input_text.encode()).hexdigest()', setup=setup_code, number=100000)\n",
    "        # Wygenerowanie hasha i zapisanie wyników\n",
    "        hash_result = getattr(hashlib, algorithm)(input_text.encode()).hexdigest()\n",
    "        results[algorithm.upper()] = {'hash': hash_result, 'length': len(hash_result), 'time': execution_time}\n",
    "    return results\n",
    "\n",
    "if __name__ == \"__main__\":\n",
    "    input_data = [\n",
    "        \"Lorem\",\n",
    "        \"Lorem ipsum dolor sit amet, consectetur adipiscing elit.\",\n",
    "        \"Lorem ipsum dolor sit amet, consectetur adipiscing elit. Vivamus convallis arcu a enim venenatis\",\n",
    "        \"Lorem ipsum dolor sit amet, consectetur adipiscing elit. Vivamus convallis arcu a enim venenatis. Fusce non urna quis nisi commodo sollicitudin\",\n",
    "        \"Lorem ipsum dolor sit amet, consectetur adipiscing elit. Vivamus convallis arcu a enim venenatis. Fusce non urna quis nisi commodo sollicitudin. Donec convallis nisl vel est suscipit, nec pulvinar dui gravida Lorem ipsum dolor sit amet, consectetur adipiscing elit. Vivamus convallis arcu a enim venenatis. Fusce non urna quis nisi commodo sollicitudin. Donec convallis nisl vel est suscipit, nec pulvinar dui gravida.\"\n",
    "    ]\n",
    "\n",
    "    # Słownik do śledzenia całkowitego czasu dla każdego algorytmu\n",
    "    overall_results = {algorithm: 0 for algorithm in ['MD5', 'SHA1', 'SHA224', 'SHA256', 'SHA384', 'SHA512']}\n",
    "\n",
    "    # Pętla po danych wejściowych\n",
    "    for data in input_data:\n",
    "        print(f\"Data Length: {len(data)}\")\n",
    "        # Porównanie haszy dla danego tekstu\n",
    "        results = compare_hashes(data)\n",
    "        # Sortowanie wyników względem czasu\n",
    "        sorted_results = sorted(results.items(), key=lambda x: x[1]['time'])\n",
    "        print(\"Results for current text:\")\n",
    "        # Wyświetlenie wyników dla bieżącego tekstu\n",
    "        for algorithm, result in sorted_results:\n",
    "            print(f\"{algorithm}: Length - {result['length']}, Time - {result['time']}, Hash - {result['hash']}\")\n",
    "        print(\"\\n\")\n",
    "        # Aktualizacja całkowitego czasu dla każdego algorytmu\n",
    "        for algorithm, result in results.items():\n",
    "            overall_results[algorithm] += result['time']\n",
    "\n",
    "    # Sortowanie całkowitego czasu dla wszystkich algorytmów\n",
    "    sorted_overall_results = sorted(overall_results.items(), key=lambda x: x[1])\n",
    "\n",
    "    # Wyświetlenie ogólnej klasyfikacji na podstawie całkowitego czasu\n",
    "    print(\"Overall ranking based on total time:\")\n",
    "    for algorithm, total_time in sorted_overall_results:\n",
    "        print(f\"{algorithm}: Total Time - {total_time}\")\n"
   ],
   "metadata": {
    "collapsed": false
   }
  },
  {
   "cell_type": "markdown",
   "source": [
    "## Wyniki funkcji skrótów uporządkowane rosnąco"
   ],
   "metadata": {
    "collapsed": false
   }
  },
  {
   "cell_type": "markdown",
   "source": [
    "### Długość 5 znaków\n",
    "|      |   SHA-1   | MD5       | SHA-224   | SHA-256   | SHA-512   | SHA-384  |\n",
    "|:----:|:---------:|-----------|-----------|-----------|-----------|----------|\n",
    "| Czas | 0.0668299 | 0.0699027 | 0.0716212 | 0.0723995 | 0.103347  | 0.106991 |\n",
    "\n"
   ],
   "metadata": {
    "collapsed": false
   }
  },
  {
   "cell_type": "markdown",
   "source": [
    "### Długość 56 znaków\n",
    "|      |   SHA-1   | SHA-224  | MD5       | SHA-256    | SHA-384   | SHA-512  |\n",
    "|:----:|:---------:|----------|-----------|------------|-----------|----------|\n",
    "| Czas | 0.0722027 | 0.076018 | 0.0788206 | 0.07908309 | 0.0931336 | 0.101997 |"
   ],
   "metadata": {
    "collapsed": false
   }
  },
  {
   "cell_type": "markdown",
   "source": [
    "### Długość 96 znaków\n",
    "|      |   SHA-1   | SHA-224  | MD5       | SHA-256   | SHA-512   | SHA-384  |\n",
    "|:----:|:---------:|----------|-----------|-----------|-----------|----------|\n",
    "| Czas | 0.0737586 | 0.077842 | 0.0778553 | 0.0826852 | 0.0997846 | 0.099791 |"
   ],
   "metadata": {
    "collapsed": false
   }
  },
  {
   "cell_type": "markdown",
   "source": [
    "### Długość 143 znaków\n",
    "|      |   SHA-1   | SHA-256   | SHA-224   | MD5       | SHA-384   | SHA-512  |\n",
    "|:----:|:---------:|-----------|-----------|-----------|-----------|----------|\n",
    "| Czas | 0.0715467 | 0.0789737 | 0.0804879 | 0.0812441 | 0.1188645 | 0.124684 |"
   ],
   "metadata": {
    "collapsed": false
   }
  },
  {
   "cell_type": "markdown",
   "source": [
    "### Długość 418 znaków\n",
    "|      |   SHA-1   | SHA-256   | SHA-224   | MD5      | SHA-512   | SHA-384  |\n",
    "|:----:|:---------:|-----------|-----------|----------|-----------|----------|\n",
    "| Czas | 0.0867812 | 0.0934968 | 0.0990692 | 0.117175 | 0.1509332 | 0.159865 |"
   ],
   "metadata": {
    "collapsed": false
   }
  },
  {
   "cell_type": "markdown",
   "source": [
    "## Ranking szybkości funkcji skrótu na podstawie sum poszczególnych wyników\n",
    "|      |   SHA-1   | SHA-224   | SHA-256   | MD5      | SHA-384   | SHA-512  |\n",
    "|:----:|:---------:|-----------|-----------|----------|-----------|----------|\n",
    "| Czas | 0.3711192 | 0.4050391 | 0.4066384 | 0.424997 | 0.5786465 | 0.580747 |"
   ],
   "metadata": {
    "collapsed": false
   }
  },
  {
   "cell_type": "markdown",
   "source": [
    "## Wnioski\n",
    "Algorytm SHA-1 okazał się być najszybszym algorytmem szyfrowania zarówno w tekstach długich jak i krótkich. Najbardziej efektywne pod względem czasu są funkcje skrótu SHA-1, SHA-256 i SHA-224, które osiągnęły najniższe czasy wykonania. Z kolei SHA-384 i SHA-512 są wolniejsze, co może wynikać z większej złożoności obliczeniowej tych funkcji."
   ],
   "metadata": {
    "collapsed": false
   }
  },
  {
   "cell_type": "markdown",
   "source": [
    "# Rola soli w tworzeniu skrótów\n",
    "- **Unikalność skrótu**\n",
    "Dodanie soli do oryginalnych danych powoduje, że dwa identyczne ciągi danych mogą generować różne skróty. Jest to szczególnie istotne w przypadku haseł, gdzie istnieje ryzyko ataków z wykorzystaniem rainbow table.\n",
    "\n",
    "- **Odporność na ataki brute-force**\n",
    "Sól zwiększa złożoność obliczeniową ataków brute-force. Bez soli, atakujący może obliczyć skróty dla wielu potencjalnych haseł i porównać je z zapisanymi skrótami w bazie danych. Dodając sól, każde obliczenie skrótu wymagałoby dodatkowej pracy.\n",
    "\n",
    "- **Odporność na ataki słownikowe**\n",
    "Sól utrudnia również ataki oparte na słownikach. Bez soli, można użyć gotowych list haseł i sprawdzić, czy ich skróty znajdują się w bazie danych. Sól sprawia, że taka technika jest mniej skuteczna, ponieważ nawet popularne hasła będą miały różne skróty.\n",
    "\n",
    "- **Bezpieczeństwo w przypadku przecieku bazy danych**\n",
    "Nawet jeśli baza danych zawierająca skróty danych i soli zostanie złamana, dodanie soli sprawia, że trzeba wykonać osobne obliczenia dla każdego hasła co zwiększa koszty obliczeniowe ataku.\n"
   ],
   "metadata": {
    "collapsed": false
   }
  },
  {
   "cell_type": "markdown",
   "source": [
    "# Czy funkcję MD5 można uznać za bezpieczną?\n",
    "MD5, jest uważana za niebezpieczną z powodu swoich słabych właściwości kryptograficznych. Znane są ataki na MD5, które umożliwiają generowanie kolizji, czyli znalezienie dwóch różnych komunikatów, które mają taki sam skrót MD5. Przez lata wykazano, że możliwe jest stworzenie dwóch różnych wiadomości, które generują ten sam skrót MD5.\n",
    "\n",
    "W 2004 roku grupa badaczy ogłosiła, że znaleźli praktyczny sposób na wygenerowanie kolizji MD5. W latach późniejszych udowodniono tę koncepcję poprzez tworzenie konkretnych kolizji.\n",
    "\n",
    "Z tego powodu MD5 nie powinno się już stosować w zastosowaniach, które wymagają bezpiecznych funkcji skrótu.\n",
    "\n",
    "## Bezpieczeństwo skrótów z krótkich haseł składowanych w bazach danych\n",
    "Składowanie krótkich haseł w bazach danych jest bardzo niebezpieczne i ma bardzo duże ryzyko odgadnięcia. Krótkie hasła są bardziej podatne na ataki brute force, mają mniejszą entropię oraz większe prawdopodobieństwo wystąpienia w rainbow table. Wzrasta też ryzyko ich kolizji. Wygenerowany skrót czteroznakowy został bardzo szybko odgadnięty poprzez stronę online.\n",
    "\n",
    "\n",
    "## Badanie kolizji MD5 na pierwszych 12 bitach"
   ],
   "metadata": {
    "collapsed": false
   }
  },
  {
   "cell_type": "code",
   "execution_count": null,
   "outputs": [],
   "source": [
    "import hashlib\n",
    "\n",
    "def find_collisions():\n",
    "    # Tworzymy słownik, który będzie przechowywał skróty MD5 dla różnych tekstów\n",
    "    hash_map = {}\n",
    "    collision_count = 0\n",
    "\n",
    "    # Przechodzimy przez zakres od 0 do 2^12, czyli możliwe kombinacje pierwszych 12 bitów\n",
    "    for i in range(2**12):\n",
    "        # Tworzymy tekst na podstawie numeru w zakresie\n",
    "        text = str(i)\n",
    "        # Obliczamy skrót MD5 dla tego tekstu\n",
    "        md5_hash = hashlib.md5(text.encode()).hexdigest()\n",
    "        # Wybieramy pierwsze 12 bitów z tego skrótu\n",
    "        first_12_bits = md5_hash[:3]  # Pierwsze 3 znaki reprezentujące 12 bitów\n",
    "        # Sprawdzamy, czy ten zestaw pierwszych 12 bitów już istnieje w słowniku\n",
    "        if first_12_bits in hash_map:\n",
    "            collision_count += 1\n",
    "\n",
    "            # print(\"Collision found for first 12 bits:\", first_12_bits)\n",
    "            # print(\"Text 1:\", hash_map[first_12_bits])\n",
    "            # print(\"Text 2:\", text)\n",
    "            # print()\n",
    "        else:\n",
    "            hash_map[first_12_bits] = text\n",
    "\n",
    "    print(\"Total collisions: \", collision_count)\n",
    "\n",
    "if __name__ == \"__main__\":\n",
    "    find_collisions()\n",
    "\n"
   ],
   "metadata": {
    "collapsed": false
   }
  },
  {
   "cell_type": "markdown",
   "source": [
    "W pierwszych 12 bitach znaleziono 1479 kolizji, co bardzo dobrze komentuje bezpieczeństwo funkcji skrótu MD5. Funkcja skrótu, która dla kilku wiadomości generuje tą samą funkcję skrótu nie jest bezpieczna."
   ],
   "metadata": {
    "collapsed": false
   }
  },
  {
   "cell_type": "markdown",
   "source": [
    "### Badanie losowości wyjścia funkcji skrutu kryterium SAC"
   ],
   "metadata": {
    "collapsed": false
   }
  },
  {
   "cell_type": "code",
   "execution_count": null,
   "outputs": [],
   "source": [
    "import hashlib\n",
    "\n",
    "def bit_change_test(input_data):\n",
    "    original_hash = hashlib.sha256(input_data.encode()).digest()\n",
    "    changed_hashes = []\n",
    "    for i in range(len(input_data) * 8):  # dla każdego bitu w wejściu\n",
    "        modified_input = bytearray(input_data.encode())\n",
    "        byte_index = i // 8\n",
    "        bit_index = i % 8\n",
    "        modified_input[byte_index] ^= (1 << bit_index)  # zmiana pojedynczego bitu\n",
    "        changed_hash = hashlib.sha256(modified_input).digest()\n",
    "        changed_hashes.append(changed_hash)\n",
    "\n",
    "    return all(bit != original_hash[i] for changed_hash in changed_hashes for i, bit in enumerate(changed_hash))\n",
    "\n",
    "if __name__ == \"__main__\":\n",
    "    input_data = \"Lorem ipsum dolor sit amet, consectetur adipiscing elit.\"\n",
    "    result = bit_change_test(input_data)\n",
    "    if result:\n",
    "        print(\"SHA-256 spełnia kryterium SAC\")\n",
    "    else:\n",
    "        print(\"SHA-256 nie spełnia kryterium SAC\")\n"
   ],
   "metadata": {
    "collapsed": false
   }
  }
 ],
 "metadata": {
  "kernelspec": {
   "display_name": "Python 3",
   "language": "python",
   "name": "python3"
  },
  "language_info": {
   "codemirror_mode": {
    "name": "ipython",
    "version": 2
   },
   "file_extension": ".py",
   "mimetype": "text/x-python",
   "name": "python",
   "nbconvert_exporter": "python",
   "pygments_lexer": "ipython2",
   "version": "2.7.6"
  }
 },
 "nbformat": 4,
 "nbformat_minor": 0
}
